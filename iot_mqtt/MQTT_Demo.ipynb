{
 "cells": [
  {
   "cell_type": "code",
   "execution_count": null,
   "id": "86630855",
   "metadata": {},
   "outputs": [],
   "source": [
    "!python -m pip install paho-mqtt"
   ]
  },
  {
   "cell_type": "code",
   "execution_count": null,
   "id": "96444532",
   "metadata": {},
   "outputs": [
    {
     "name": "stdout",
     "output_type": "stream",
     "text": [
      "[broker] Logging to: C:\\Users\\13538\\OneDrive\\Desktop\\Arduino\\mosq-python.log\n",
      "[broker] Starting Mosquitto (-v for logs)...\n",
      "[broker] Broker is ready.\n"
     ]
    },
    {
     "ename": "TimeoutError",
     "evalue": "timed out",
     "output_type": "error",
     "traceback": [
      "\u001b[1;31m---------------------------------------------------------------------------\u001b[0m",
      "\u001b[1;31mTimeoutError\u001b[0m                              Traceback (most recent call last)",
      "Cell \u001b[1;32mIn[1], line 10\u001b[0m\n\u001b[0;32m      5\u001b[0m broker \u001b[38;5;241m=\u001b[39m \u001b[38;5;124m\"\u001b[39m\u001b[38;5;124m192.168.0.100\u001b[39m\u001b[38;5;124m\"\u001b[39m\n\u001b[0;32m      7\u001b[0m beacon \u001b[38;5;241m=\u001b[39m ControllerBeacon(broker\u001b[38;5;241m=\u001b[39mbroker, port\u001b[38;5;241m=\u001b[39m\u001b[38;5;241m1883\u001b[39m, username\u001b[38;5;241m=\u001b[39m\u001b[38;5;124m\"\u001b[39m\u001b[38;5;124mpyctl-controller\u001b[39m\u001b[38;5;124m\"\u001b[39m, password\u001b[38;5;241m=\u001b[39m\u001b[38;5;124m\"\u001b[39m\u001b[38;5;124mcontroller\u001b[39m\u001b[38;5;124m\"\u001b[39m, client_id\u001b[38;5;241m=\u001b[39m\u001b[38;5;124m\"\u001b[39m\u001b[38;5;124mpyctl-controller\u001b[39m\u001b[38;5;124m\"\u001b[39m,\n\u001b[0;32m      8\u001b[0m         status_topic\u001b[38;5;241m=\u001b[39m\u001b[38;5;124m\"\u001b[39m\u001b[38;5;124mpyctl/status\u001b[39m\u001b[38;5;124m\"\u001b[39m, heartbeat_topic\u001b[38;5;241m=\u001b[39m\u001b[38;5;124m\"\u001b[39m\u001b[38;5;124mpyctl/heartbeat\u001b[39m\u001b[38;5;124m\"\u001b[39m, heartbeat_interval\u001b[38;5;241m=\u001b[39m\u001b[38;5;241m5.0\u001b[39m, keepalive\u001b[38;5;241m=\u001b[39m\u001b[38;5;241m30\u001b[39m)\n\u001b[1;32m---> 10\u001b[0m \u001b[43mbeacon\u001b[49m\u001b[38;5;241;43m.\u001b[39;49m\u001b[43mstart\u001b[49m\u001b[43m(\u001b[49m\u001b[43m)\u001b[49m\n\u001b[0;32m     12\u001b[0m pumps \u001b[38;5;241m=\u001b[39m PumpMQTT(broker\u001b[38;5;241m=\u001b[39mbroker, username\u001b[38;5;241m=\u001b[39m\u001b[38;5;124m\"\u001b[39m\u001b[38;5;124mpyctl-controller\u001b[39m\u001b[38;5;124m\"\u001b[39m, password\u001b[38;5;241m=\u001b[39m\u001b[38;5;124m\"\u001b[39m\u001b[38;5;124mcontroller\u001b[39m\u001b[38;5;124m\"\u001b[39m,\n\u001b[0;32m     13\u001b[0m                 base_topic\u001b[38;5;241m=\u001b[39m\u001b[38;5;124m\"\u001b[39m\u001b[38;5;124mpumps/01\u001b[39m\u001b[38;5;124m\"\u001b[39m, client_id\u001b[38;5;241m=\u001b[39m\u001b[38;5;124m\"\u001b[39m\u001b[38;5;124mpyctl-pumps\u001b[39m\u001b[38;5;124m\"\u001b[39m)\n\u001b[0;32m     14\u001b[0m ultra \u001b[38;5;241m=\u001b[39m UltraMQTT(broker\u001b[38;5;241m=\u001b[39mbroker, username\u001b[38;5;241m=\u001b[39m\u001b[38;5;124m\"\u001b[39m\u001b[38;5;124mpyctl-controller\u001b[39m\u001b[38;5;124m\"\u001b[39m, password\u001b[38;5;241m=\u001b[39m\u001b[38;5;124m\"\u001b[39m\u001b[38;5;124mcontroller\u001b[39m\u001b[38;5;124m\"\u001b[39m,\n\u001b[0;32m     15\u001b[0m                 base_topic\u001b[38;5;241m=\u001b[39m\u001b[38;5;124m\"\u001b[39m\u001b[38;5;124multra/01\u001b[39m\u001b[38;5;124m\"\u001b[39m, client_id\u001b[38;5;241m=\u001b[39m\u001b[38;5;124m\"\u001b[39m\u001b[38;5;124mpyctl-ultra\u001b[39m\u001b[38;5;124m\"\u001b[39m)\n",
      "File \u001b[1;32mc:\\Users\\13538\\OneDrive\\Desktop\\AC\\MQTT-Server\\iot_mqtt\\iot_mqtt.py:99\u001b[0m, in \u001b[0;36mControllerBeacon.start\u001b[1;34m(self)\u001b[0m\n\u001b[0;32m     97\u001b[0m     \u001b[38;5;28;01mreturn\u001b[39;00m\n\u001b[0;32m     98\u001b[0m \u001b[38;5;28mself\u001b[39m\u001b[38;5;241m.\u001b[39m_client \u001b[38;5;241m=\u001b[39m \u001b[38;5;28mself\u001b[39m\u001b[38;5;241m.\u001b[39m_build_client()\n\u001b[1;32m---> 99\u001b[0m \u001b[38;5;28;43mself\u001b[39;49m\u001b[38;5;241;43m.\u001b[39;49m\u001b[43m_client\u001b[49m\u001b[38;5;241;43m.\u001b[39;49m\u001b[43mconnect\u001b[49m\u001b[43m(\u001b[49m\u001b[38;5;28;43mself\u001b[39;49m\u001b[38;5;241;43m.\u001b[39;49m\u001b[43mbroker\u001b[49m\u001b[43m,\u001b[49m\u001b[43m \u001b[49m\u001b[38;5;28;43mself\u001b[39;49m\u001b[38;5;241;43m.\u001b[39;49m\u001b[43mport\u001b[49m\u001b[43m,\u001b[49m\u001b[43m \u001b[49m\u001b[43mkeepalive\u001b[49m\u001b[38;5;241;43m=\u001b[39;49m\u001b[38;5;28;43mself\u001b[39;49m\u001b[38;5;241;43m.\u001b[39;49m\u001b[43mkeepalive\u001b[49m\u001b[43m)\u001b[49m\n\u001b[0;32m    100\u001b[0m \u001b[38;5;28mself\u001b[39m\u001b[38;5;241m.\u001b[39m_client\u001b[38;5;241m.\u001b[39mloop_start()\n\u001b[0;32m    101\u001b[0m \u001b[38;5;28mself\u001b[39m\u001b[38;5;241m.\u001b[39m_loop_running \u001b[38;5;241m=\u001b[39m \u001b[38;5;28;01mTrue\u001b[39;00m\n",
      "File \u001b[1;32mc:\\Users\\13538\\AppData\\Local\\Programs\\Python\\Python310\\lib\\site-packages\\paho\\mqtt\\client.py:1435\u001b[0m, in \u001b[0;36mClient.connect\u001b[1;34m(self, host, port, keepalive, bind_address, bind_port, clean_start, properties)\u001b[0m\n\u001b[0;32m   1431\u001b[0m         \u001b[38;5;28;01mraise\u001b[39;00m \u001b[38;5;167;01mValueError\u001b[39;00m(\u001b[38;5;124m\"\u001b[39m\u001b[38;5;124mProperties only apply to MQTT V5\u001b[39m\u001b[38;5;124m\"\u001b[39m)\n\u001b[0;32m   1433\u001b[0m \u001b[38;5;28mself\u001b[39m\u001b[38;5;241m.\u001b[39mconnect_async(host, port, keepalive,\n\u001b[0;32m   1434\u001b[0m                    bind_address, bind_port, clean_start, properties)\n\u001b[1;32m-> 1435\u001b[0m \u001b[38;5;28;01mreturn\u001b[39;00m \u001b[38;5;28;43mself\u001b[39;49m\u001b[38;5;241;43m.\u001b[39;49m\u001b[43mreconnect\u001b[49m\u001b[43m(\u001b[49m\u001b[43m)\u001b[49m\n",
      "File \u001b[1;32mc:\\Users\\13538\\AppData\\Local\\Programs\\Python\\Python310\\lib\\site-packages\\paho\\mqtt\\client.py:1598\u001b[0m, in \u001b[0;36mClient.reconnect\u001b[1;34m(self)\u001b[0m\n\u001b[0;32m   1595\u001b[0m         \u001b[38;5;28;01mif\u001b[39;00m \u001b[38;5;129;01mnot\u001b[39;00m \u001b[38;5;28mself\u001b[39m\u001b[38;5;241m.\u001b[39msuppress_exceptions:\n\u001b[0;32m   1596\u001b[0m             \u001b[38;5;28;01mraise\u001b[39;00m\n\u001b[1;32m-> 1598\u001b[0m \u001b[38;5;28mself\u001b[39m\u001b[38;5;241m.\u001b[39m_sock \u001b[38;5;241m=\u001b[39m \u001b[38;5;28;43mself\u001b[39;49m\u001b[38;5;241;43m.\u001b[39;49m\u001b[43m_create_socket\u001b[49m\u001b[43m(\u001b[49m\u001b[43m)\u001b[49m\n\u001b[0;32m   1600\u001b[0m \u001b[38;5;28mself\u001b[39m\u001b[38;5;241m.\u001b[39m_sock\u001b[38;5;241m.\u001b[39msetblocking(\u001b[38;5;28;01mFalse\u001b[39;00m)  \u001b[38;5;66;03m# type: ignore[attr-defined]\u001b[39;00m\n\u001b[0;32m   1601\u001b[0m \u001b[38;5;28mself\u001b[39m\u001b[38;5;241m.\u001b[39m_registered_write \u001b[38;5;241m=\u001b[39m \u001b[38;5;28;01mFalse\u001b[39;00m\n",
      "File \u001b[1;32mc:\\Users\\13538\\AppData\\Local\\Programs\\Python\\Python310\\lib\\site-packages\\paho\\mqtt\\client.py:4609\u001b[0m, in \u001b[0;36mClient._create_socket\u001b[1;34m(self)\u001b[0m\n\u001b[0;32m   4607\u001b[0m     sock \u001b[38;5;241m=\u001b[39m \u001b[38;5;28mself\u001b[39m\u001b[38;5;241m.\u001b[39m_create_unix_socket_connection()\n\u001b[0;32m   4608\u001b[0m \u001b[38;5;28;01melse\u001b[39;00m:\n\u001b[1;32m-> 4609\u001b[0m     sock \u001b[38;5;241m=\u001b[39m \u001b[38;5;28;43mself\u001b[39;49m\u001b[38;5;241;43m.\u001b[39;49m\u001b[43m_create_socket_connection\u001b[49m\u001b[43m(\u001b[49m\u001b[43m)\u001b[49m\n\u001b[0;32m   4611\u001b[0m \u001b[38;5;28;01mif\u001b[39;00m \u001b[38;5;28mself\u001b[39m\u001b[38;5;241m.\u001b[39m_ssl:\n\u001b[0;32m   4612\u001b[0m     sock \u001b[38;5;241m=\u001b[39m \u001b[38;5;28mself\u001b[39m\u001b[38;5;241m.\u001b[39m_ssl_wrap_socket(sock)\n",
      "File \u001b[1;32mc:\\Users\\13538\\AppData\\Local\\Programs\\Python\\Python310\\lib\\site-packages\\paho\\mqtt\\client.py:4640\u001b[0m, in \u001b[0;36mClient._create_socket_connection\u001b[1;34m(self)\u001b[0m\n\u001b[0;32m   4638\u001b[0m     \u001b[38;5;28;01mreturn\u001b[39;00m socks\u001b[38;5;241m.\u001b[39mcreate_connection(addr, timeout\u001b[38;5;241m=\u001b[39m\u001b[38;5;28mself\u001b[39m\u001b[38;5;241m.\u001b[39m_connect_timeout, source_address\u001b[38;5;241m=\u001b[39msource, \u001b[38;5;241m*\u001b[39m\u001b[38;5;241m*\u001b[39mproxy)\n\u001b[0;32m   4639\u001b[0m \u001b[38;5;28;01melse\u001b[39;00m:\n\u001b[1;32m-> 4640\u001b[0m     \u001b[38;5;28;01mreturn\u001b[39;00m \u001b[43msocket\u001b[49m\u001b[38;5;241;43m.\u001b[39;49m\u001b[43mcreate_connection\u001b[49m\u001b[43m(\u001b[49m\u001b[43maddr\u001b[49m\u001b[43m,\u001b[49m\u001b[43m \u001b[49m\u001b[43mtimeout\u001b[49m\u001b[38;5;241;43m=\u001b[39;49m\u001b[38;5;28;43mself\u001b[39;49m\u001b[38;5;241;43m.\u001b[39;49m\u001b[43m_connect_timeout\u001b[49m\u001b[43m,\u001b[49m\u001b[43m \u001b[49m\u001b[43msource_address\u001b[49m\u001b[38;5;241;43m=\u001b[39;49m\u001b[43msource\u001b[49m\u001b[43m)\u001b[49m\n",
      "File \u001b[1;32mc:\\Users\\13538\\AppData\\Local\\Programs\\Python\\Python310\\lib\\socket.py:845\u001b[0m, in \u001b[0;36mcreate_connection\u001b[1;34m(address, timeout, source_address)\u001b[0m\n\u001b[0;32m    843\u001b[0m \u001b[38;5;28;01mif\u001b[39;00m err \u001b[38;5;129;01mis\u001b[39;00m \u001b[38;5;129;01mnot\u001b[39;00m \u001b[38;5;28;01mNone\u001b[39;00m:\n\u001b[0;32m    844\u001b[0m     \u001b[38;5;28;01mtry\u001b[39;00m:\n\u001b[1;32m--> 845\u001b[0m         \u001b[38;5;28;01mraise\u001b[39;00m err\n\u001b[0;32m    846\u001b[0m     \u001b[38;5;28;01mfinally\u001b[39;00m:\n\u001b[0;32m    847\u001b[0m         \u001b[38;5;66;03m# Break explicitly a reference cycle\u001b[39;00m\n\u001b[0;32m    848\u001b[0m         err \u001b[38;5;241m=\u001b[39m \u001b[38;5;28;01mNone\u001b[39;00m\n",
      "File \u001b[1;32mc:\\Users\\13538\\AppData\\Local\\Programs\\Python\\Python310\\lib\\socket.py:833\u001b[0m, in \u001b[0;36mcreate_connection\u001b[1;34m(address, timeout, source_address)\u001b[0m\n\u001b[0;32m    831\u001b[0m \u001b[38;5;28;01mif\u001b[39;00m source_address:\n\u001b[0;32m    832\u001b[0m     sock\u001b[38;5;241m.\u001b[39mbind(source_address)\n\u001b[1;32m--> 833\u001b[0m \u001b[43msock\u001b[49m\u001b[38;5;241;43m.\u001b[39;49m\u001b[43mconnect\u001b[49m\u001b[43m(\u001b[49m\u001b[43msa\u001b[49m\u001b[43m)\u001b[49m\n\u001b[0;32m    834\u001b[0m \u001b[38;5;66;03m# Break explicitly a reference cycle\u001b[39;00m\n\u001b[0;32m    835\u001b[0m err \u001b[38;5;241m=\u001b[39m \u001b[38;5;28;01mNone\u001b[39;00m\n",
      "\u001b[1;31mTimeoutError\u001b[0m: timed out"
     ]
    }
   ],
   "source": [
    "import time\n",
    "from iot_mqtt import PumpMQTT, UltraMQTT, HeatMQTT, PhMQTT, start_broker_if_needed, stop_broker, ControllerBeacon, _best_effort_all_off\n",
    "proc = start_broker_if_needed()  # only if you don’t run the Windows service\n",
    "\n",
    "broker = \"192.168.0.100\"\n",
    "\n",
    "beacon = ControllerBeacon(broker=broker, port=1883, username=\"pyctl-controller\", password=\"controller\", client_id=\"pyctl-controller\",\n",
    "        status_topic=\"pyctl/status\", heartbeat_topic=\"pyctl/heartbeat\", heartbeat_interval=5.0, keepalive=30)\n",
    "\n",
    "beacon.start()\n",
    "\n",
    "pumps = PumpMQTT(broker=broker, username=\"pyctl-controller\", password=\"controller\",\n",
    "                base_topic=\"pumps/01\", client_id=\"pyctl-pumps\")\n",
    "ultra = UltraMQTT(broker=broker, username=\"pyctl-controller\", password=\"controller\",\n",
    "                base_topic=\"ultra/01\", client_id=\"pyctl-ultra\")\n",
    "heat = HeatMQTT(broker=broker, username=\"pyctl-controller\", password=\"controller\",\n",
    "                base_topic=\"heat/01\", client_id=\"pyctl-heat\")\n",
    "ph = PhMQTT(broker=broker, username=\"pyctl-controller\", password=\"controller\",\n",
    "                base_topic=\"ph/01\", client_id=\"pyctl-ph\")\n",
    "\n",
    "pumps.ensure_connected()\n",
    "ultra.ensure_connected()\n",
    "heat.ensure_connected()\n",
    "ph.ensure_connected()\n",
    "\n",
    "time.sleep(1)  # wait for connections to settle\n",
    "print(\"Connected to broker\")"
   ]
  },
  {
   "cell_type": "code",
   "execution_count": null,
   "id": "aaaf3424",
   "metadata": {},
   "outputs": [],
   "source": [
    "# Show live status from each node for a couple seconds\n",
    "pumps.status(seconds=2.0)\n",
    "time.sleep(1)\n",
    "ultra.status(seconds=2.0)\n",
    "time.sleep(1)\n",
    "heat.status(seconds=2.0)\n",
    "time.sleep(1)\n",
    "ph.status(seconds=2.0)"
   ]
  },
  {
   "cell_type": "code",
   "execution_count": 3,
   "id": "0dd7fa0d",
   "metadata": {},
   "outputs": [
    {
     "name": "stdout",
     "output_type": "stream",
     "text": [
      "[pyctl-pumps] Published 'ON' to pumps/01/cmd/3\n",
      "[pyctl-pumps] Published 'OFF' to pumps/01/cmd/3\n",
      "[pyctl-pumps] Published 'ON' to pumps/01/cmd/2\n",
      "[pyctl-pumps] Published 'OFF' to pumps/01/cmd/2\n",
      "[pyctl-pumps] Published 'ON:2000' to pumps/01/cmd/1\n"
     ]
    }
   ],
   "source": [
    "# Pumps\n",
    "pumps.on(3)                 # pump 3 ON\n",
    "time.sleep(1)\n",
    "pumps.off(3)\n",
    "time.sleep(1)\n",
    "\n",
    "pumps.on(2)                 # pump 2 ON\n",
    "time.sleep(1)\n",
    "pumps.off(2)\n",
    "time.sleep(1)\n",
    "\n",
    "pumps.on(1, 2000)           # pump 1 ON for 2 s (auto-off)"
   ]
  },
  {
   "cell_type": "code",
   "execution_count": null,
   "id": "fda121cf",
   "metadata": {},
   "outputs": [
    {
     "name": "stdout",
     "output_type": "stream",
     "text": [
      "[pyctl-ultra] Published 'ON' to ultra/01/cmd/1\n"
     ]
    }
   ],
   "source": [
    "# Ultrasonic\n",
    "ultra.on(1)       # ultrasonic ch1 ON for 30 s\n",
    "time.sleep(30)\n",
    "ultra.off(1)      # ultrasonic ch1 OFF\n",
    "time.sleep(1)\n",
    "\n",
    "ultra.on(2)       # ultrasonic ch2 ON for 30 s\n",
    "time.sleep(30)\n",
    "ultra.off(2)      # ultrasonic ch2 OFF\n",
    "time.sleep(1)\n",
    "\n",
    "ultra.on(1, 15000)  # ultrasonic ch1 ON for 15 s (auto-off)"
   ]
  },
  {
   "cell_type": "code",
   "execution_count": null,
   "id": "bc1825c1",
   "metadata": {},
   "outputs": [
    {
     "name": "stdout",
     "output_type": "stream",
     "text": [
      "[pyctl-heat] Published 'SET:42.0' to heat/01/cmd/1\n",
      "[pyctl-heat] Published 'PID:ON' to heat/01/cmd/1\n",
      "[pyctl-heat] Published 'PID:OFF' to heat/01/cmd/1\n",
      "[pyctl-heat] Published 'PWM:0' to heat/01/cmd/1\n",
      "[pyctl-heat] Published 'OFF' to heat/01/cmd/1\n"
     ]
    }
   ],
   "source": [
    "# Heater + thermistor demo\n",
    "heat.set_target(1, 42.0)         # set target to 42C (ESP retains on set/1)\n",
    "heat.pid_on(1)                   # enable PID loop on ESP\n",
    "# actively request a reading now:\n",
    "try:\n",
    "    for i in range(50):\n",
    "        t = heat.get_base_temp(1, timeout_s=5.0)\n",
    "        print(\"Temp(ch1) =\", t)\n",
    "        time.sleep(1)\n",
    "except TimeoutError as e:\n",
    "    print(\"Temp read timeout:\", e)\n",
    "\n",
    "heat.pid_off(1)                  # stop PID\n",
    "heat.set_pwm(1, 0)               # ensure PWM is off\n",
    "heat.off(1)                      # ensure relay is off"
   ]
  },
  {
   "cell_type": "code",
   "execution_count": null,
   "id": "fffff2e8",
   "metadata": {},
   "outputs": [],
   "source": [
    "ph.oneshot(seconds=3.0) # Single read \n",
    "\n",
    "ph.watch_poll(interval_ms=5000, seconds=15.0) # Polling @5s for ~15s"
   ]
  },
  {
   "cell_type": "code",
   "execution_count": null,
   "id": "1c0b1c46",
   "metadata": {},
   "outputs": [
    {
     "name": "stdout",
     "output_type": "stream",
     "text": [
      "[pyctl-pumps] Published 'ON:60000' to pumps/01/cmd/1\n",
      "[pyctl-pumps] Published 'ON:60000' to pumps/01/cmd/2\n",
      "[pyctl-pumps] Published 'ON:60000' to pumps/01/cmd/3\n"
     ]
    },
    {
     "ename": "AttributeError",
     "evalue": "'UltraMQTT' object has no attribute 'on_for'",
     "output_type": "error",
     "traceback": [
      "\u001b[1;31m---------------------------------------------------------------------------\u001b[0m",
      "\u001b[1;31mAttributeError\u001b[0m                            Traceback (most recent call last)",
      "Cell \u001b[1;32mIn[3], line 6\u001b[0m\n\u001b[0;32m      3\u001b[0m pumps\u001b[38;5;241m.\u001b[39mon(\u001b[38;5;241m2\u001b[39m, set_time)           \u001b[38;5;66;03m# pump 1 ON for 2 s (auto-off)\u001b[39;00m\n\u001b[0;32m      4\u001b[0m pumps\u001b[38;5;241m.\u001b[39mon(\u001b[38;5;241m3\u001b[39m, set_time)           \u001b[38;5;66;03m# pump 1 ON for 2 s (auto-off)\u001b[39;00m\n\u001b[1;32m----> 6\u001b[0m \u001b[43multra\u001b[49m\u001b[38;5;241;43m.\u001b[39;49m\u001b[43mon_for\u001b[49m(\u001b[38;5;241m2\u001b[39m, set_time)       \u001b[38;5;66;03m# ultrasonic ch2 ON for 30 s\u001b[39;00m\n\u001b[0;32m      8\u001b[0m heat\u001b[38;5;241m.\u001b[39mset_target(\u001b[38;5;241m1\u001b[39m, \u001b[38;5;241m42.0\u001b[39m)         \u001b[38;5;66;03m# set target to 42C (ESP retains on set/1)\u001b[39;00m\n\u001b[0;32m      9\u001b[0m heat\u001b[38;5;241m.\u001b[39mpid_on(\u001b[38;5;241m1\u001b[39m)                   \u001b[38;5;66;03m# enable PID loop on ESP\u001b[39;00m\n",
      "\u001b[1;31mAttributeError\u001b[0m: 'UltraMQTT' object has no attribute 'on_for'"
     ]
    }
   ],
   "source": [
    "set_time = 60000\n",
    "pumps.on(1, set_time)           # pump 1 ON for 2 s (auto-off)\n",
    "pumps.on(2, set_time)           # pump 1 ON for 2 s (auto-off)\n",
    "pumps.on(3, set_time)           # pump 1 ON for 2 s (auto-off)\n",
    "\n",
    "ultra.on(2, set_time)       # ultrasonic ch2 ON for 30 s\n",
    "\n",
    "heat.set_target(1, 42.0)         # set target to 42C (ESP retains on set/1)\n",
    "heat.pid_on(1)                   # enable PID loop on ESP\n",
    "time.sleep(set_time/1000)\n",
    "heat.pid_off(1)                  # stop PID\n",
    "heat.set_pwm(1, 0)               # ensure PWM is off\n",
    "heat.off(1)                      # ensure relay is off"
   ]
  },
  {
   "cell_type": "code",
   "execution_count": null,
   "id": "78f92a79",
   "metadata": {},
   "outputs": [
    {
     "name": "stdout",
     "output_type": "stream",
     "text": [
      "[ctl] Stopping controller beacon (OFFLINE)...\n",
      "[broker] Stopping Mosquitto...\n",
      "[2025-10-23 11:55:44] [broker] Mosquitto stopped.\n"
     ]
    }
   ],
   "source": [
    "_best_effort_all_off(pumps, ultra, heat)\n",
    "\n",
    "pumps.disconnect()\n",
    "ultra.disconnect()\n",
    "heat.disconnect()\n",
    "ph.disconnect()\n",
    "\n",
    "beacon.stop()\n",
    "stop_broker(proc)"
   ]
  }
 ],
 "metadata": {
  "kernelspec": {
   "display_name": "Python 3",
   "language": "python",
   "name": "python3"
  },
  "language_info": {
   "codemirror_mode": {
    "name": "ipython",
    "version": 3
   },
   "file_extension": ".py",
   "mimetype": "text/x-python",
   "name": "python",
   "nbconvert_exporter": "python",
   "pygments_lexer": "ipython3",
   "version": "3.10.9"
  }
 },
 "nbformat": 4,
 "nbformat_minor": 5
}
