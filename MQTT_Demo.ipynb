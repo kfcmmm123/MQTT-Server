{
 "cells": [
  {
   "cell_type": "code",
   "execution_count": 1,
   "id": "96444532",
   "metadata": {},
   "outputs": [
    {
     "name": "stdout",
     "output_type": "stream",
     "text": [
      "[broker] Logging to: C:\\Users\\13538\\OneDrive\\Desktop\\Arduino\\mosq-python.log\n",
      "[broker] Starting Mosquitto (-v for logs)...\n",
      "[broker] Broker is ready.\n",
      "[pyctl-pumps] Connecting to 192.168.0.100:1883 (attempt 1)...\n",
      "[pyctl-ultra] Connecting to 192.168.0.100:1883 (attempt 1)...\n",
      "[pyctl-pumps] Connected to 192.168.0.100:1883\n",
      "[pyctl-ultra] Connected to 192.168.0.100:1883\n",
      "[pyctl-heat] Connecting to 192.168.0.100:1883 (attempt 1)...\n",
      "[pyctl-heat] Connected to 192.168.0.100:1883\n",
      "Connected to broker\n"
     ]
    },
    {
     "name": "stdout",
     "output_type": "stream",
     "text": [
      "pumps/01/status OFFLINE\n",
      "pumps/01/state/1 OFF\n",
      "pumps/01/state/2 OFF\n",
      "pumps/01/state/3 OFF\n",
      "pumps/01/state/4 OFF\n",
      "ultra/01/status OFFLINE\n",
      "ultra/01/state/1 OFF\n",
      "ultra/01/state/2 OFF\n",
      "heat/01/status ONLINE\n",
      "heat/01/state/1 OFF\n",
      "heat/01/state/2 OFF\n",
      "heat/01/temp/1 23.1\n",
      "pumps/01/status OFFLINE\n",
      "pumps/01/state/1 OFF\n",
      "pumps/01/state/2 OFF\n",
      "pumps/01/state/3 OFF\n",
      "pumps/01/state/4 OFF\n",
      "ultra/01/status ONLINE\n",
      "ultra/01/state/1 OFF\n",
      "ultra/01/state/2 OFF\n",
      "heat/01/status ONLINE\n",
      "heat/01/state/1 OFF\n",
      "heat/01/state/2 OFF\n",
      "pumps/01/state/3 OFF\n",
      "pumps/01/state/4 OFF\n",
      "ultra/01/status ONLINE\n",
      "ultra/01/state/1 OFF\n",
      "ultra/01/state/2 OFF\n",
      "ultra/01/heartbeat 1\n",
      "heat/01/status ONLINE\n",
      "heat/01/state/1 OFF\n",
      "heat/01/state/2 OFF\n",
      "heat/01/temp/1 23.0\n"
     ]
    }
   ],
   "source": [
    "import time\n",
    "from iot_mqtt import PumpMQTT, UltraMQTT, HeatMQTT, start_broker_if_needed, stop_broker\n",
    "proc = start_broker_if_needed()  # only if you don’t run the Windows service\n",
    "\n",
    "broker = \"192.168.0.100\"\n",
    "\n",
    "pumps = PumpMQTT(broker=broker, username=\"pump1\", password=\"pump\",\n",
    "                base_topic=\"pumps/01\", client_id=\"pyctl-pumps\")\n",
    "ultra = UltraMQTT(broker=broker, username=\"ultra1\", password=\"ultra\",\n",
    "                base_topic=\"ultra/01\", client_id=\"pyctl-ultra\")\n",
    "heat = HeatMQTT(broker=broker, username=\"heat1\", password=\"heat\",\n",
    "                base_topic=\"heat/01\", client_id=\"pyctl-heat\")\n",
    "\n",
    "pumps.ensure_connected()\n",
    "ultra.ensure_connected()\n",
    "heat.ensure_connected()\n",
    "time.sleep(1)  # wait for connections to settle\n",
    "print(\"Connected to broker\")"
   ]
  },
  {
   "cell_type": "code",
   "execution_count": 6,
   "id": "aaaf3424",
   "metadata": {},
   "outputs": [],
   "source": [
    "# Show live status from each node for a couple seconds\n",
    "pumps.status(seconds=2.0)\n",
    "ultra.status(seconds=2.0)\n",
    "heat.status(seconds=2.0)"
   ]
  },
  {
   "cell_type": "code",
   "execution_count": 5,
   "id": "0dd7fa0d",
   "metadata": {},
   "outputs": [
    {
     "name": "stdout",
     "output_type": "stream",
     "text": [
      "[pyctl-pumps] Published 'ON' to pumps/01/cmd/1\n",
      "[pyctl-pumps] Published 'ON:2000' to pumps/01/cmd/1\n"
     ]
    }
   ],
   "source": [
    "# Pumps\n",
    "pumps.on(1)                 # pump 1 ON\n",
    "time.sleep(1)\n",
    "pumps.on(1, 2000)           # pump 1 ON for 2 s (auto-off)\n",
    "time.sleep(2.5)"
   ]
  },
  {
   "cell_type": "code",
   "execution_count": null,
   "id": "fda121cf",
   "metadata": {},
   "outputs": [
    {
     "name": "stdout",
     "output_type": "stream",
     "text": [
      "[pyctl-ultra] Published 'ON:30000' to ultra/01/cmd/2\n"
     ]
    }
   ],
   "source": [
    "# Ultrasonic\n",
    "ultra.on_for(2, 30000)       # ultrasonic ch2 ON for 30 s\n"
   ]
  },
  {
   "cell_type": "code",
   "execution_count": null,
   "id": "bc1825c1",
   "metadata": {},
   "outputs": [
    {
     "name": "stdout",
     "output_type": "stream",
     "text": [
      "[pyctl-heat] Published 'SET:42.0' to heat/01/cmd/1\n",
      "[pyctl-heat] Published 'PID:ON' to heat/01/cmd/1\n",
      "[pyctl-heat] Published 'PID:OFF' to heat/01/cmd/1\n",
      "[pyctl-heat] Published 'PWM:0' to heat/01/cmd/1\n",
      "[pyctl-heat] Published 'OFF' to heat/01/cmd/1\n"
     ]
    }
   ],
   "source": [
    "# Heater + thermistor demo\n",
    "heat.set_target(1, 42.0)         # set target to 42C (ESP retains on set/1)\n",
    "heat.pid_on(1)                   # enable PID loop on ESP\n",
    "# actively request a reading now:\n",
    "try:\n",
    "    for i in range(200):\n",
    "        t = heat.get_base_temp(1, timeout_s=5.0)\n",
    "        print(\"Temp(ch1) =\", t)\n",
    "        time.sleep(1)\n",
    "except TimeoutError as e:\n",
    "    print(\"Temp read timeout:\", e)\n",
    "\n",
    "heat.pid_off(1)                  # stop PID\n",
    "heat.set_pwm(1, 0)               # ensure PWM is off\n",
    "heat.off(1)                      # ensure relay is off"
   ]
  },
  {
   "cell_type": "code",
   "execution_count": 19,
   "id": "6a258d46",
   "metadata": {},
   "outputs": [
    {
     "name": "stdout",
     "output_type": "stream",
     "text": [
      "[broker] Stopping Mosquitto...\n",
      "[2025-10-20 11:05:39] [broker] Mosquitto stopped.\n"
     ]
    }
   ],
   "source": [
    "# Cleanup\n",
    "pumps.disconnect()\n",
    "ultra.disconnect()\n",
    "heat.disconnect()\n",
    "stop_broker(proc)"
   ]
  }
 ],
 "metadata": {
  "kernelspec": {
   "display_name": "Python 3",
   "language": "python",
   "name": "python3"
  },
  "language_info": {
   "codemirror_mode": {
    "name": "ipython",
    "version": 3
   },
   "file_extension": ".py",
   "mimetype": "text/x-python",
   "name": "python",
   "nbconvert_exporter": "python",
   "pygments_lexer": "ipython3",
   "version": "3.10.9"
  }
 },
 "nbformat": 4,
 "nbformat_minor": 5
}
